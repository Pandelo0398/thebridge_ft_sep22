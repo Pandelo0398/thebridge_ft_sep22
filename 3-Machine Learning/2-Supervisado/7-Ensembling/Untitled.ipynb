{
 "cells": [
  {
   "cell_type": "code",
   "execution_count": 24,
   "id": "1bd55d76-53cb-42d9-a4bf-1641de26a3fe",
   "metadata": {},
   "outputs": [
    {
     "name": "stdout",
     "output_type": "stream",
     "text": [
      "1\n",
      "hola\n"
     ]
    }
   ],
   "source": [
    "l = [\"a\", \"b\", \"c\", \"d\", \"e\"]\n",
    "#     0    1    2    3    4\n",
    "#     -5,  -4,  -3,  -2,  -1\n",
    "\n",
    "t = (1,2,3)\n",
    "print(t[0])\n",
    "\n",
    "d = {'saludo': \"hola\"}\n",
    "print(d[\"saludo\"])\n"
   ]
  },
  {
   "cell_type": "code",
   "execution_count": 41,
   "id": "cb87cf6c-7b49-4299-8f66-fd2c91f745cc",
   "metadata": {},
   "outputs": [
    {
     "data": {
      "text/plain": [
       "['e', 'd', 'c', 'b', 'a']"
      ]
     },
     "execution_count": 41,
     "metadata": {},
     "output_type": "execute_result"
    }
   ],
   "source": [
    "l[-1] # 0,1,2,3,4   -1,-2,-3,-4,-5\n",
    "# start:stop:step\n",
    "l[::-1]"
   ]
  },
  {
   "cell_type": "code",
   "execution_count": 59,
   "id": "ba0667f0-903c-4c5c-ae51-093aeca6c992",
   "metadata": {},
   "outputs": [
    {
     "name": "stdout",
     "output_type": "stream",
     "text": [
      "<class 'str'>\n",
      "HOLA\n",
      "HORA\n",
      "<class 'type'>\n"
     ]
    }
   ],
   "source": [
    "mi_string = \"hola\"\n",
    "print(type(mi_string))\n",
    "print(mi_string.upper()) # def upper(self):..... return MAYUSCULAS\n",
    "otro_string = mi_string.upper()\n",
    "print(otro_string.replace(\"L\", \"R\"))\n",
    "print((mi_string.upper().replace(\"L\", \"R\")))  # objeto.metodo()  objeto.shape.size_of_\n",
    "# float(3)  ((objeto.metodo()).metodo()).atributo"
   ]
  }
 ],
 "metadata": {
  "kernelspec": {
   "display_name": "Python 3 (ipykernel)",
   "language": "python",
   "name": "python3"
  },
  "language_info": {
   "codemirror_mode": {
    "name": "ipython",
    "version": 3
   },
   "file_extension": ".py",
   "mimetype": "text/x-python",
   "name": "python",
   "nbconvert_exporter": "python",
   "pygments_lexer": "ipython3",
   "version": "3.9.7"
  }
 },
 "nbformat": 4,
 "nbformat_minor": 5
}
